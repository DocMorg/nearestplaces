#%%

import pandas as pd
from haversine import haversine
import requests
from heapq import heappush, nsmallest
from random import randint
from bs4 import BeautifulSoup as bs
pd.options.mode.chained_assignment = None  # default='warn'

#%%

# read xlsx file converted to csv as dataframe
df = pd.read_csv('./data.csv',sep=';')

#%%
# add new columns for saving retrieved gps location and to do it only once
cols = df.columns
df['Широта'] = ""
df['Долгота'] = ""
for i, row in df.iterrows():
    # prepare the line of address for request to ya.api
    req = " ".join(row[cols[0:6]].to_string(index=False).replace('NaN', '').split()).replace(' ', '+')
    r = requests.get(
        "https://geocode-maps.yandex.ru/1.x/?apikey=APIKEY=" + req
    )
    try:
        df['Широта'][i], df['Долгота'][i] = bs(r.content, 'lxml').find('pos').contents[0].split(' ')
    except AttributeError:
        pass
    if i == 240:
        break
# i used yandex api, in case smth was not found - we won't be able to use it anyway
df.dropna(inplace=True)  # so we just drop it

#%%
# make buckup
work_df = df
work_df['Широта'] = pd.to_numeric(df['Широта'], downcast="float")
work_df['Долгота'] = pd.to_numeric(df['Долгота'], downcast="float")
work_df.to_csv(path_or_buf='./work_df.csv', sep=';', encoding='utf-8', index=False)

#%% md
let i - be the given line with the place info and it is needed to find other 5 places nearby, so:

#%%
i = randint(0, 240)
in_row = work_df.iloc[i]
in_coords = (in_row['Широта'], in_row['Долгота'])
h = [] # using heap queue algorithm

#%%
# %%timeit
# create heap queue for given i. heapq helps to make sorted array while filling it. So we don't need to sort it again.
for j, row in work_df.iterrows():
    # skip the row for which we are searching nearest places
    if j == i:
        continue
    # vectorized_haversine is ~23% slower, i've tested with numpy
    hs = haversine((row['Широта'], row['Долгота']), in_coords)
    heappush(h, (hs, row['Номер банкомата']))

#%%
# print 5 closest places:
[print('distance(km): %.3f' % t[0], ' Place number: ', int(t[1])) for t in nsmallest(5, h)];
